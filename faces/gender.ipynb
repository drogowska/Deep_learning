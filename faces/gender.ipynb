{
  "cells": [
    {
      "cell_type": "markdown",
      "metadata": {
        "id": "uTtVd5WQc7nJ"
      },
      "source": []
    },
    {
      "cell_type": "code",
      "execution_count": null,
      "metadata": {
        "colab": {
          "base_uri": "https://localhost:8080/"
        },
        "id": "_aNv8d_8Bwxi",
        "outputId": "89ca4bfe-0c16-4daf-a8a3-077d678f840f"
      },
      "outputs": [
        {
          "name": "stdout",
          "output_type": "stream",
          "text": [
            "Requirement already satisfied: torch in /usr/local/lib/python3.10/dist-packages (2.1.0+cu121)\n",
            "Requirement already satisfied: filelock in /usr/local/lib/python3.10/dist-packages (from torch) (3.13.1)\n",
            "Requirement already satisfied: typing-extensions in /usr/local/lib/python3.10/dist-packages (from torch) (4.5.0)\n",
            "Requirement already satisfied: sympy in /usr/local/lib/python3.10/dist-packages (from torch) (1.12)\n",
            "Requirement already satisfied: networkx in /usr/local/lib/python3.10/dist-packages (from torch) (3.2.1)\n",
            "Requirement already satisfied: jinja2 in /usr/local/lib/python3.10/dist-packages (from torch) (3.1.2)\n",
            "Requirement already satisfied: fsspec in /usr/local/lib/python3.10/dist-packages (from torch) (2023.6.0)\n",
            "Requirement already satisfied: triton==2.1.0 in /usr/local/lib/python3.10/dist-packages (from torch) (2.1.0)\n",
            "Requirement already satisfied: MarkupSafe>=2.0 in /usr/local/lib/python3.10/dist-packages (from jinja2->torch) (2.1.3)\n",
            "Requirement already satisfied: mpmath>=0.19 in /usr/local/lib/python3.10/dist-packages (from sympy->torch) (1.3.0)\n",
            "Requirement already satisfied: torchvision in /usr/local/lib/python3.10/dist-packages (0.16.0+cu121)\n",
            "Requirement already satisfied: numpy in /usr/local/lib/python3.10/dist-packages (from torchvision) (1.23.5)\n",
            "Requirement already satisfied: requests in /usr/local/lib/python3.10/dist-packages (from torchvision) (2.31.0)\n",
            "Requirement already satisfied: torch==2.1.0 in /usr/local/lib/python3.10/dist-packages (from torchvision) (2.1.0+cu121)\n",
            "Requirement already satisfied: pillow!=8.3.*,>=5.3.0 in /usr/local/lib/python3.10/dist-packages (from torchvision) (9.4.0)\n",
            "Requirement already satisfied: filelock in /usr/local/lib/python3.10/dist-packages (from torch==2.1.0->torchvision) (3.13.1)\n",
            "Requirement already satisfied: typing-extensions in /usr/local/lib/python3.10/dist-packages (from torch==2.1.0->torchvision) (4.5.0)\n",
            "Requirement already satisfied: sympy in /usr/local/lib/python3.10/dist-packages (from torch==2.1.0->torchvision) (1.12)\n",
            "Requirement already satisfied: networkx in /usr/local/lib/python3.10/dist-packages (from torch==2.1.0->torchvision) (3.2.1)\n",
            "Requirement already satisfied: jinja2 in /usr/local/lib/python3.10/dist-packages (from torch==2.1.0->torchvision) (3.1.2)\n",
            "Requirement already satisfied: fsspec in /usr/local/lib/python3.10/dist-packages (from torch==2.1.0->torchvision) (2023.6.0)\n",
            "Requirement already satisfied: triton==2.1.0 in /usr/local/lib/python3.10/dist-packages (from torch==2.1.0->torchvision) (2.1.0)\n",
            "Requirement already satisfied: charset-normalizer<4,>=2 in /usr/local/lib/python3.10/dist-packages (from requests->torchvision) (3.3.2)\n",
            "Requirement already satisfied: idna<4,>=2.5 in /usr/local/lib/python3.10/dist-packages (from requests->torchvision) (3.6)\n",
            "Requirement already satisfied: urllib3<3,>=1.21.1 in /usr/local/lib/python3.10/dist-packages (from requests->torchvision) (2.0.7)\n",
            "Requirement already satisfied: certifi>=2017.4.17 in /usr/local/lib/python3.10/dist-packages (from requests->torchvision) (2023.11.17)\n",
            "Requirement already satisfied: MarkupSafe>=2.0 in /usr/local/lib/python3.10/dist-packages (from jinja2->torch==2.1.0->torchvision) (2.1.3)\n",
            "Requirement already satisfied: mpmath>=0.19 in /usr/local/lib/python3.10/dist-packages (from sympy->torch==2.1.0->torchvision) (1.3.0)\n",
            "Collecting lightning\n",
            "  Downloading lightning-2.1.3-py3-none-any.whl (2.0 MB)\n",
            "\u001b[2K     \u001b[90m━━━━━━━━━━━━━━━━━━━━━━━━━━━━━━━━━━━━━━━━\u001b[0m \u001b[32m2.0/2.0 MB\u001b[0m \u001b[31m24.4 MB/s\u001b[0m eta \u001b[36m0:00:00\u001b[0m\n",
            "\u001b[?25hRequirement already satisfied: PyYAML<8.0,>=5.4 in /usr/local/lib/python3.10/dist-packages (from lightning) (6.0.1)\n",
            "Requirement already satisfied: fsspec[http]<2025.0,>=2022.5.0 in /usr/local/lib/python3.10/dist-packages (from lightning) (2023.6.0)\n",
            "Requirement already satisfied: lightning-utilities<2.0,>=0.8.0 in /usr/local/lib/python3.10/dist-packages (from lightning) (0.10.0)\n",
            "Requirement already satisfied: numpy<3.0,>=1.17.2 in /usr/local/lib/python3.10/dist-packages (from lightning) (1.23.5)\n",
            "Requirement already satisfied: packaging<25.0,>=20.0 in /usr/local/lib/python3.10/dist-packages (from lightning) (23.2)\n",
            "Requirement already satisfied: torch<4.0,>=1.12.0 in /usr/local/lib/python3.10/dist-packages (from lightning) (2.1.0+cu121)\n",
            "Requirement already satisfied: torchmetrics<3.0,>=0.7.0 in /usr/local/lib/python3.10/dist-packages (from lightning) (1.2.1)\n",
            "Requirement already satisfied: tqdm<6.0,>=4.57.0 in /usr/local/lib/python3.10/dist-packages (from lightning) (4.66.1)\n",
            "Requirement already satisfied: typing-extensions<6.0,>=4.0.0 in /usr/local/lib/python3.10/dist-packages (from lightning) (4.5.0)\n",
            "Collecting pytorch-lightning (from lightning)\n",
            "  Downloading pytorch_lightning-2.1.3-py3-none-any.whl (777 kB)\n",
            "\u001b[2K     \u001b[90m━━━━━━━━━━━━━━━━━━━━━━━━━━━━━━━━━━━━━━━━\u001b[0m \u001b[32m777.7/777.7 kB\u001b[0m \u001b[31m62.8 MB/s\u001b[0m eta \u001b[36m0:00:00\u001b[0m\n",
            "\u001b[?25hRequirement already satisfied: requests in /usr/local/lib/python3.10/dist-packages (from fsspec[http]<2025.0,>=2022.5.0->lightning) (2.31.0)\n",
            "Requirement already satisfied: aiohttp!=4.0.0a0,!=4.0.0a1 in /usr/local/lib/python3.10/dist-packages (from fsspec[http]<2025.0,>=2022.5.0->lightning) (3.9.1)\n",
            "Requirement already satisfied: setuptools in /usr/local/lib/python3.10/dist-packages (from lightning-utilities<2.0,>=0.8.0->lightning) (67.7.2)\n",
            "Requirement already satisfied: filelock in /usr/local/lib/python3.10/dist-packages (from torch<4.0,>=1.12.0->lightning) (3.13.1)\n",
            "Requirement already satisfied: sympy in /usr/local/lib/python3.10/dist-packages (from torch<4.0,>=1.12.0->lightning) (1.12)\n",
            "Requirement already satisfied: networkx in /usr/local/lib/python3.10/dist-packages (from torch<4.0,>=1.12.0->lightning) (3.2.1)\n",
            "Requirement already satisfied: jinja2 in /usr/local/lib/python3.10/dist-packages (from torch<4.0,>=1.12.0->lightning) (3.1.2)\n",
            "Requirement already satisfied: triton==2.1.0 in /usr/local/lib/python3.10/dist-packages (from torch<4.0,>=1.12.0->lightning) (2.1.0)\n",
            "Requirement already satisfied: attrs>=17.3.0 in /usr/local/lib/python3.10/dist-packages (from aiohttp!=4.0.0a0,!=4.0.0a1->fsspec[http]<2025.0,>=2022.5.0->lightning) (23.2.0)\n",
            "Requirement already satisfied: multidict<7.0,>=4.5 in /usr/local/lib/python3.10/dist-packages (from aiohttp!=4.0.0a0,!=4.0.0a1->fsspec[http]<2025.0,>=2022.5.0->lightning) (6.0.4)\n",
            "Requirement already satisfied: yarl<2.0,>=1.0 in /usr/local/lib/python3.10/dist-packages (from aiohttp!=4.0.0a0,!=4.0.0a1->fsspec[http]<2025.0,>=2022.5.0->lightning) (1.9.4)\n",
            "Requirement already satisfied: frozenlist>=1.1.1 in /usr/local/lib/python3.10/dist-packages (from aiohttp!=4.0.0a0,!=4.0.0a1->fsspec[http]<2025.0,>=2022.5.0->lightning) (1.4.1)\n",
            "Requirement already satisfied: aiosignal>=1.1.2 in /usr/local/lib/python3.10/dist-packages (from aiohttp!=4.0.0a0,!=4.0.0a1->fsspec[http]<2025.0,>=2022.5.0->lightning) (1.3.1)\n",
            "Requirement already satisfied: async-timeout<5.0,>=4.0 in /usr/local/lib/python3.10/dist-packages (from aiohttp!=4.0.0a0,!=4.0.0a1->fsspec[http]<2025.0,>=2022.5.0->lightning) (4.0.3)\n",
            "Requirement already satisfied: MarkupSafe>=2.0 in /usr/local/lib/python3.10/dist-packages (from jinja2->torch<4.0,>=1.12.0->lightning) (2.1.3)\n",
            "Requirement already satisfied: charset-normalizer<4,>=2 in /usr/local/lib/python3.10/dist-packages (from requests->fsspec[http]<2025.0,>=2022.5.0->lightning) (3.3.2)\n",
            "Requirement already satisfied: idna<4,>=2.5 in /usr/local/lib/python3.10/dist-packages (from requests->fsspec[http]<2025.0,>=2022.5.0->lightning) (3.6)\n",
            "Requirement already satisfied: urllib3<3,>=1.21.1 in /usr/local/lib/python3.10/dist-packages (from requests->fsspec[http]<2025.0,>=2022.5.0->lightning) (2.0.7)\n",
            "Requirement already satisfied: certifi>=2017.4.17 in /usr/local/lib/python3.10/dist-packages (from requests->fsspec[http]<2025.0,>=2022.5.0->lightning) (2023.11.17)\n",
            "Requirement already satisfied: mpmath>=0.19 in /usr/local/lib/python3.10/dist-packages (from sympy->torch<4.0,>=1.12.0->lightning) (1.3.0)\n",
            "Installing collected packages: pytorch-lightning, lightning\n",
            "Successfully installed lightning-2.1.3 pytorch-lightning-2.1.3\n",
            "Collecting poutyne\n",
            "  Downloading Poutyne-1.17.1-py3-none-any.whl (213 kB)\n",
            "\u001b[2K     \u001b[90m━━━━━━━━━━━━━━━━━━━━━━━━━━━━━━━━━━━━━━━━\u001b[0m \u001b[32m213.5/213.5 kB\u001b[0m \u001b[31m2.3 MB/s\u001b[0m eta \u001b[36m0:00:00\u001b[0m\n",
            "\u001b[?25hRequirement already satisfied: numpy in /usr/local/lib/python3.10/dist-packages (from poutyne) (1.23.5)\n",
            "Requirement already satisfied: torch in /usr/local/lib/python3.10/dist-packages (from poutyne) (2.1.0+cu121)\n",
            "Requirement already satisfied: torchmetrics in /usr/local/lib/python3.10/dist-packages (from poutyne) (1.2.1)\n",
            "Requirement already satisfied: filelock in /usr/local/lib/python3.10/dist-packages (from torch->poutyne) (3.13.1)\n",
            "Requirement already satisfied: typing-extensions in /usr/local/lib/python3.10/dist-packages (from torch->poutyne) (4.5.0)\n",
            "Requirement already satisfied: sympy in /usr/local/lib/python3.10/dist-packages (from torch->poutyne) (1.12)\n",
            "Requirement already satisfied: networkx in /usr/local/lib/python3.10/dist-packages (from torch->poutyne) (3.2.1)\n",
            "Requirement already satisfied: jinja2 in /usr/local/lib/python3.10/dist-packages (from torch->poutyne) (3.1.2)\n",
            "Requirement already satisfied: fsspec in /usr/local/lib/python3.10/dist-packages (from torch->poutyne) (2023.6.0)\n",
            "Requirement already satisfied: triton==2.1.0 in /usr/local/lib/python3.10/dist-packages (from torch->poutyne) (2.1.0)\n",
            "Requirement already satisfied: packaging>17.1 in /usr/local/lib/python3.10/dist-packages (from torchmetrics->poutyne) (23.2)\n",
            "Requirement already satisfied: lightning-utilities>=0.8.0 in /usr/local/lib/python3.10/dist-packages (from torchmetrics->poutyne) (0.10.0)\n",
            "Requirement already satisfied: setuptools in /usr/local/lib/python3.10/dist-packages (from lightning-utilities>=0.8.0->torchmetrics->poutyne) (67.7.2)\n",
            "Requirement already satisfied: MarkupSafe>=2.0 in /usr/local/lib/python3.10/dist-packages (from jinja2->torch->poutyne) (2.1.3)\n",
            "Requirement already satisfied: mpmath>=0.19 in /usr/local/lib/python3.10/dist-packages (from sympy->torch->poutyne) (1.3.0)\n",
            "Installing collected packages: poutyne\n",
            "Successfully installed poutyne-1.17.1\n",
            "Collecting wget\n",
            "  Downloading wget-3.2.zip (10 kB)\n",
            "  Preparing metadata (setup.py) ... \u001b[?25l\u001b[?25hdone\n",
            "Building wheels for collected packages: wget\n",
            "  Building wheel for wget (setup.py) ... \u001b[?25l\u001b[?25hdone\n",
            "  Created wheel for wget: filename=wget-3.2-py3-none-any.whl size=9655 sha256=8084e58a81ed2b8e55deb751de231d79b4d37e55c74772a9306462bda243ba2d\n",
            "  Stored in directory: /root/.cache/pip/wheels/8b/f1/7f/5c94f0a7a505ca1c81cd1d9208ae2064675d97582078e6c769\n",
            "Successfully built wget\n",
            "Installing collected packages: wget\n",
            "Successfully installed wget-3.2\n",
            "Requirement already satisfied: opencv-python in /usr/local/lib/python3.10/dist-packages (4.8.0.76)\n",
            "Requirement already satisfied: numpy>=1.21.2 in /usr/local/lib/python3.10/dist-packages (from opencv-python) (1.23.5)\n"
          ]
        }
      ],
      "source": [
        "! pip install torch\n",
        "! pip install torchvision\n",
        "! pip install lightning\n",
        "%pip install poutyne          # to install the Poutyne library\n",
        "%pip install wget             # to install the wget library in order to download data\n",
        "%pip install opencv-python    # to install the cv2 (opencv) library"
      ]
    },
    {
      "cell_type": "markdown",
      "metadata": {
        "id": "hAcWBFbpdAh2"
      },
      "source": [
        "# Baza danych Celeba"
      ]
    },
    {
      "cell_type": "code",
      "execution_count": 1,
      "metadata": {
        "id": "MyuQiye4BuQt"
      },
      "outputs": [],
      "source": [
        "import torch\n",
        "import torch.nn as nn\n",
        "import torch.optim as optim\n",
        "from torch.utils.data import DataLoader\n",
        "from torchvision import datasets, transforms\n",
        "import torch.nn.functional as F\n"
      ]
    },
    {
      "cell_type": "code",
      "execution_count": 4,
      "metadata": {
        "colab": {
          "base_uri": "https://localhost:8080/"
        },
        "id": "J0S9fxjMIn6D",
        "outputId": "c46b2915-51e3-4af4-b241-bab6aaff76b8"
      },
      "outputs": [
        {
          "name": "stdout",
          "output_type": "stream",
          "text": [
            "Collecting wget\n",
            "  Downloading wget-3.2.zip (10 kB)\n",
            "  Preparing metadata (setup.py) ... \u001b[?25l\u001b[?25hdone\n",
            "Building wheels for collected packages: wget\n",
            "  Building wheel for wget (setup.py) ... \u001b[?25l\u001b[?25hdone\n",
            "  Created wheel for wget: filename=wget-3.2-py3-none-any.whl size=9655 sha256=83f63a183c27b9b99f6ba70803ae06b07948f6f2f7386d810fe4185329825724\n",
            "  Stored in directory: /root/.cache/pip/wheels/8b/f1/7f/5c94f0a7a505ca1c81cd1d9208ae2064675d97582078e6c769\n",
            "Successfully built wget\n",
            "Installing collected packages: wget\n",
            "Successfully installed wget-3.2\n"
          ]
        }
      ],
      "source": [
        "!pip install wget"
      ]
    },
    {
      "cell_type": "code",
      "execution_count": 5,
      "metadata": {
        "id": "yTERdLywcRsC"
      },
      "outputs": [],
      "source": [
        "import wget\n",
        "import zipfile\n",
        "import os\n",
        "data_root = \"datasets\"\n",
        "\n",
        "base_url = \"https://graal.ift.ulaval.ca/public/celeba/\"\n",
        "\n",
        "file_list = [\n",
        "    \"img_align_celeba.zip\",\n",
        "    \"list_attr_celeba.txt\",\n",
        "    \"identity_CelebA.txt\",\n",
        "    \"list_bbox_celeba.txt\",\n",
        "    \"list_landmarks_align_celeba.txt\",\n",
        "    \"list_eval_partition.txt\",\n",
        "]\n",
        "\n",
        "# Path to folder with the dataset\n",
        "dataset_folder = f\"{data_root}/celeba\"\n",
        "os.makedirs(dataset_folder, exist_ok=True)\n",
        "\n",
        "for file in file_list:\n",
        "    url = f\"{base_url}/{file}\"\n",
        "    if not os.path.exists(f\"{dataset_folder}/{file}\"):\n",
        "        wget.download(url, f\"{dataset_folder}/{file}\")\n",
        "\n",
        "with zipfile.ZipFile(f\"{dataset_folder}/img_align_celeba.zip\", \"r\") as ziphandler:\n",
        "    ziphandler.extractall(dataset_folder)"
      ]
    },
    {
      "cell_type": "code",
      "execution_count": null,
      "metadata": {
        "id": "jnksCGbVfgVB"
      },
      "outputs": [],
      "source": [
        "transform = transforms.Compose([\n",
        "    transforms.Resize((64, 64)),\n",
        "    transforms.ToTensor(),\n",
        "])\n",
        "\n",
        "# Load CelebA dataset\n",
        "train_dataset = datasets.CelebA(root=data_root,\n",
        "                                split='train',\n",
        "                                target_type=['attr'] ,\n",
        "                                transform=transform,\n",
        "                                download=False)\n",
        "\n",
        "val_dataset = datasets.CelebA(root=data_root,\n",
        "                              split='valid',\n",
        "                                target_type=['attr'] ,\n",
        "                              transform=transform,\n",
        "                              download=False)\n",
        "\n",
        "test_dataset = datasets.CelebA(root=data_root,\n",
        "                              split='test',\n",
        "                                target_type=['attr'] ,\n",
        "                               transform=transform,\n",
        "                              download=False)\n"
      ]
    },
    {
      "cell_type": "code",
      "execution_count": null,
      "metadata": {
        "colab": {
          "base_uri": "https://localhost:8080/"
        },
        "id": "JU13BRrHBuQx",
        "outputId": "4b3b03b8-baa2-48f2-d2b6-cd026686c93a"
      },
      "outputs": [
        {
          "name": "stderr",
          "output_type": "stream",
          "text": [
            "/usr/local/lib/python3.10/dist-packages/torch/utils/data/dataloader.py:557: UserWarning: This DataLoader will create 4 worker processes in total. Our suggested max number of worker in current system is 2, which is smaller than what this DataLoader is going to create. Please be aware that excessive worker creation might get DataLoader running slow or even freeze, lower the worker number to avoid potential slowness/freeze if necessary.\n",
            "  warnings.warn(_create_warning_msg(\n"
          ]
        }
      ],
      "source": [
        "\n",
        "# Define a custom class to extract gender labels (1 for male, 0 for female)\n",
        "class GenderDataset(torch.utils.data.Dataset):\n",
        "    def __init__(self, celeba_dataset):\n",
        "        self.celeba_dataset = celeba_dataset\n",
        "\n",
        "    def __getitem__(self, index):\n",
        "        image, attributes = self.celeba_dataset[index]\n",
        "        gender = attributes[20]  # 20th index corresponds to 'Male' attribute\n",
        "        return image, gender\n",
        "\n",
        "    def __len__(self):\n",
        "        return len(self.celeba_dataset)\n",
        "\n",
        "# Create data loaders using the custom dataset\n",
        "train_loader = DataLoader(GenderDataset(train_dataset), batch_size=4, shuffle=True, num_workers=4)\n",
        "val_loader = DataLoader(GenderDataset(val_dataset), batch_size=4, shuffle=False, num_workers=4)\n",
        "test_loader = DataLoader(GenderDataset(test_dataset), batch_size=4, shuffle=True, num_workers=4)"
      ]
    },
    {
      "cell_type": "markdown",
      "metadata": {
        "id": "PG_SjMwGdPCl"
      },
      "source": [
        "# Model klasyfikatora płci"
      ]
    },
    {
      "cell_type": "code",
      "execution_count": 2,
      "metadata": {
        "colab": {
          "base_uri": "https://localhost:8080/"
        },
        "id": "5ZzCF1r0BuQy",
        "outputId": "8667a84c-733a-43c7-94f1-5bd15cf940d7"
      },
      "outputs": [
        {
          "name": "stdout",
          "output_type": "stream",
          "text": [
            "GenderCNN(\n",
            "  (cnn): Sequential(\n",
            "    (0): Conv2d(3, 32, kernel_size=(3, 3), stride=(1, 1), padding=(1, 1))\n",
            "    (1): ReLU()\n",
            "    (2): MaxPool2d(kernel_size=2, stride=2, padding=0, dilation=1, ceil_mode=False)\n",
            "    (3): Conv2d(32, 64, kernel_size=(3, 3), stride=(1, 1), padding=(1, 1))\n",
            "    (4): ReLU()\n",
            "    (5): MaxPool2d(kernel_size=2, stride=2, padding=0, dilation=1, ceil_mode=False)\n",
            "  )\n",
            "  (fc): Sequential(\n",
            "    (0): Linear(in_features=16384, out_features=256, bias=True)\n",
            "    (1): ReLU()\n",
            "    (2): Linear(in_features=256, out_features=1, bias=True)\n",
            "  )\n",
            ")\n"
          ]
        }
      ],
      "source": [
        "class GenderCNN(nn.Module):\n",
        "    def __init__(self):\n",
        "        super(GenderCNN, self).__init__()\n",
        "        self.cnn = nn.Sequential(\n",
        "            nn.Conv2d(3, 32, kernel_size=3, stride=1, padding=1),\n",
        "            nn.ReLU(),\n",
        "            nn.MaxPool2d(2, 2),\n",
        "            nn.Conv2d(32, 64, kernel_size=3, stride=1, padding=1),\n",
        "            nn.ReLU(),\n",
        "            nn.MaxPool2d(2, 2)\n",
        "        )\n",
        "        self.fc = nn.Sequential(\n",
        "            nn.Linear(16 * 32 * 32, 256),\n",
        "            nn.ReLU(),\n",
        "            nn.Linear(256, 1),  # 2 classes: Male and Female\n",
        "        )\n",
        "\n",
        "\n",
        "    def forward(self, x):\n",
        "        x = self.cnn(x)\n",
        "        x = x.view(-1, 16 * 32 * 32)\n",
        "        x = self.fc(x)\n",
        "        return x\n",
        "\n",
        "device = torch.device(\"cuda\" if torch.cuda.is_available() else \"cpu\")\n",
        "model = GenderCNN().to(device)\n",
        "print(model)"
      ]
    },
    {
      "cell_type": "code",
      "execution_count": 7,
      "metadata": {
        "id": "ohYgMwVRBuQ0"
      },
      "outputs": [],
      "source": [
        "batch_size = 64\n",
        "n_epochs = 15\n",
        "patience = 5\n",
        "learning_rate = 0.001\n",
        "\n",
        "criterion = nn.BCEWithLogitsLoss()\n",
        "optimizer = torch.optim.Adam(model.parameters(), lr=learning_rate)"
      ]
    },
    {
      "cell_type": "markdown",
      "metadata": {
        "id": "22Eb84RgdWia"
      },
      "source": [
        "# Trening"
      ]
    },
    {
      "cell_type": "code",
      "execution_count": null,
      "metadata": {
        "colab": {
          "base_uri": "https://localhost:8080/",
          "height": 356
        },
        "id": "8YtG2xBvBuQ0",
        "outputId": "382e357e-3bbf-49f4-f5af-5c446444e405"
      },
      "outputs": [],
      "source": [
        "import numpy as np\n",
        "import torchmetrics\n",
        "import copy\n",
        "train_losses = []\n",
        "valid_losses = []\n",
        "\n",
        "\n",
        "def train_model(model, patience, n_epochs):\n",
        "    avg_train_losses = []\n",
        "    avg_valid_losses = []\n",
        "    last_loss = 100\n",
        "    trigger_times = 0\n",
        "    best_val_loss = float('inf')\n",
        "    counter = 0\n",
        "    best_model_wts = copy.deepcopy(model.state_dict())\n",
        "\n",
        "    for epoch in range(1, n_epochs + 1):\n",
        "        model.train()\n",
        "        running_loss = 0.0\n",
        "        for inputs, labels in train_loader:\n",
        "            inputs, labels = inputs.to(device), labels.to(device)\n",
        "            optimizer.zero_grad()\n",
        "            outputs = model(inputs)\n",
        "            loss = criterion(outputs, labels.float().view(-1, 1))\n",
        "            loss.backward()\n",
        "            optimizer.step()\n",
        "            train_losses.append(loss.item())\n",
        "            running_loss += loss.item() * inputs.size(0)\n",
        "\n",
        "\n",
        "        epoch_loss = running_loss / len(train_loader)\n",
        "        train_loss = np.average(train_losses)\n",
        "        avg_train_losses.append(train_loss)\n",
        "\n",
        "# Validation\n",
        "        model.eval()\n",
        "        correct = 0\n",
        "        total = 0\n",
        "        val_loss = 0.0\n",
        "        accuracy_metric = torchmetrics.Accuracy(task='binary')\n",
        "        all_predictions = []\n",
        "        all_labels = []\n",
        "        with torch.no_grad():\n",
        "            for inputs, targets in val_loader:\n",
        "                inputs, targets = inputs.to(device), targets.to(device)\n",
        "                outputs = model(inputs)\n",
        "                val_loss += criterion(outputs, targets.float().view(-1, 1)).item()\n",
        "                _, predicted = torch.max(outputs, 1)\n",
        "                total += targets.size(0)\n",
        "                # correct += (predicted == targets).sum().item()\n",
        "                valid_losses.append(loss.item())\n",
        "                all_predictions.extend(predicted.cpu().numpy())\n",
        "                all_labels.extend(targets.cpu().numpy())\n",
        "\n",
        "        valid_loss = np.average(valid_losses)\n",
        "        avg_valid_losses.append(valid_loss)\n",
        "\n",
        "        predictions_array = np.array(all_predictions)\n",
        "        labels_array = np.array(all_labels)\n",
        "        # accuracy = correct / total\n",
        "\n",
        "        print(f\"Epoch {epoch}, Train Loss: {epoch_loss:.4f}, Validation Loss: {valid_loss:.4f},\")\n",
        "\n",
        "         # Check for improvement\n",
        "        if valid_loss < best_val_loss:\n",
        "            best_val_loss = valid_loss\n",
        "            counter = 0\n",
        "            best_model_wts = copy.deepcopy(model.state_dict())\n",
        "        else:\n",
        "            counter += 1\n",
        "\n",
        "        # Check if early stopping criteria met\n",
        "        if counter >= patience:\n",
        "            print(\"Early stopping! No improvement for {} epochs.\".format(patience))\n",
        "            break\n",
        "\n",
        "    model.load_state_dict(best_model_wts)\n",
        "    torch.save(model.state_dict(), 'gender_classification_model.pth')\n",
        "    return  model, avg_train_losses, avg_valid_losses\n",
        "\n",
        "model, train_loss, valid_loss  = train_model(model, patience, n_epochs)"
      ]
    },
    {
      "cell_type": "code",
      "execution_count": null,
      "metadata": {
        "colab": {
          "base_uri": "https://localhost:8080/",
          "height": 807
        },
        "id": "ZyeXacgYBuQ1",
        "outputId": "54fc2693-84e7-4a5a-fabe-7da7a7fc560a"
      },
      "outputs": [
        {
          "data": {
            "image/png": "[encoded data removed]",
            "text/plain": [
              "<Figure size 1000x800 with 1 Axes>"
            ]
          },
          "metadata": {},
          "output_type": "display_data"
        }
      ],
      "source": [
        "from matplotlib import pyplot as plt\n",
        "fig = plt.figure(figsize=(10,8))\n",
        "plt.plot(range(1,len(train_loss)+1),train_loss, label='Training Loss')\n",
        "plt.plot(range(1,len(valid_loss)+1),valid_loss,label='Validation Loss')\n",
        "\n",
        "minposs = valid_loss.index(min(valid_loss))+1\n",
        "plt.axvline(minposs, linestyle='--', color='r',label='Early Stopping Checkpoint')\n",
        "\n",
        "plt.xlabel('epochs')\n",
        "plt.ylabel('loss')\n",
        "# plt.ylim(0, 0.5)\n",
        "plt.xlim(0, len(train_loss)+1)\n",
        "plt.grid(True)\n",
        "plt.legend()\n",
        "plt.tight_layout()\n",
        "plt.show()\n",
        "fig.savefig('loss_plot.png', bbox_inches='tight')"
      ]
    },
    {
      "cell_type": "markdown",
      "metadata": {
        "id": "e3bDETRideit"
      },
      "source": [
        "\n",
        "\n",
        "\n",
        "\n",
        "# Testowanie"
      ]
    },
    {
      "cell_type": "markdown",
      "metadata": {
        "id": "sJ7RELdOdsEo"
      },
      "source": [
        "## Na zbiorze Celeba"
      ]
    },
    {
      "cell_type": "code",
      "execution_count": 14,
      "metadata": {
        "colab": {
          "base_uri": "https://localhost:8080/"
        },
        "id": "vM-3bHA8n4ta",
        "outputId": "e283b44d-122f-449b-cd81-473f3ec1e94b"
      },
      "outputs": [
        {
          "data": {
            "text/plain": [
              "<All keys matched successfully>"
            ]
          },
          "execution_count": 14,
          "metadata": {},
          "output_type": "execute_result"
        }
      ],
      "source": [
        "model.load_state_dict(torch.load(r'/content/gender_classification_model.pth'))\n"
      ]
    },
    {
      "cell_type": "code",
      "execution_count": null,
      "metadata": {
        "colab": {
          "base_uri": "https://localhost:8080/",
          "height": 734
        },
        "id": "Q9E5EpyYn6rz",
        "outputId": "1ecc7dd9-40e5-4abd-88e9-9938aab01b26"
      },
      "outputs": [
        {
          "data": {
            "text/plain": [
              "<Figure size 400x800 with 0 Axes>"
            ]
          },
          "metadata": {},
          "output_type": "display_data"
        },
        {
          "data": {
            "image/png": "[encoded data removed]",
            "text/plain": [
              "<Figure size 400x400 with 1 Axes>"
            ]
          },
          "metadata": {},
          "output_type": "display_data"
        },
        {
          "data": {
            "image/png": "[encoded data removed]",
            "text/plain": [
              "<Figure size 400x400 with 1 Axes>"
            ]
          },
          "metadata": {},
          "output_type": "display_data"
        }
      ],
      "source": [
        "import matplotlib.pyplot as plt\n",
        "import numpy as np\n",
        "import torch\n",
        "\n",
        "def get_img(test_dataset):\n",
        "    idx = np.random.randint(0, len(test_dataset))  # Losowy indeks w batchu\n",
        "    img = test_dataset[idx][0]\n",
        "    label = test_dataset[idx][1]\n",
        "\n",
        "    male_index = 20\n",
        "    real_gender = get_gender(label[male_index])\n",
        "    model.eval()\n",
        "    with torch.no_grad():\n",
        "        im = img.to(device).unsqueeze(0)\n",
        "        output = model(im)\n",
        "        pred = output\n",
        "\n",
        "    pred = pred.cpu().numpy().flatten()\n",
        "    pred_gender = get_gender(pred[0])\n",
        "    return img, real_gender, pred_gender\n",
        "\n",
        "\n",
        "def get_gender(pred):\n",
        "    pred_gender = None\n",
        "    if pred > 0.5:\n",
        "        pred_gender = \"Male\"\n",
        "    else:\n",
        "        pred_gender = \"Female\"\n",
        "    return pred_gender\n",
        "\n",
        "def pic(img, real_gender, pred_gender):\n",
        "  plt.figure(figsize=(4, 4))\n",
        "  img = np.transpose(img, (1, 2, 0))\n",
        "  plt.imshow(img)\n",
        "  plt.axis('off')\n",
        "  plt.title(f\"Real gender: {real_gender} Predicted gender: {pred_gender} \")\n",
        "  plt.show()\n",
        "\n",
        "\n",
        "# Wyświetlanie obrazu z predykcjami i etykietami rzeczywistymi\n",
        "gender = 0\n",
        "figure = plt.figure(figsize=(4, 8))\n",
        "cols, rows = 1, 2\n",
        "# for i in range(1, cols * rows + 1):\n",
        "img, real_gender, pred_gender = get_img(test_dataset)\n",
        "pic(img, real_gender, pred_gender)\n",
        "while (real_gender == pred_gender):\n",
        "  img, real_gender, pred_gender = get_img(test_dataset)\n",
        "pic(img, real_gender, pred_gender)\n",
        "\n",
        "\n",
        "\n",
        "\n"
      ]
    },
    {
      "cell_type": "code",
      "execution_count": null,
      "metadata": {
        "colab": {
          "base_uri": "https://localhost:8080/",
          "height": 636
        },
        "id": "RImJ1VhZCmW1",
        "outputId": "48453e29-1faf-4e91-ee8e-aa7b1fc199a0"
      },
      "outputs": [
        {
          "name": "stderr",
          "output_type": "stream",
          "text": [
            "<ipython-input-111-067a358584a0>:22: UserWarning: Creating a tensor from a list of numpy.ndarrays is extremely slow. Please consider converting the list to a single numpy.ndarray with numpy.array() before converting to a tensor. (Triggered internally at ../torch/csrc/utils/tensor_new.cpp:261.)\n",
            "  y_true_tensor = torch.tensor(y_true)\n"
          ]
        },
        {
          "name": "stdout",
          "output_type": "stream",
          "text": [
            "Test Accuracy: 96.09%\n"
          ]
        },
        {
          "data": {
            "image/png": "[encoded data removed]",
            "text/plain": [
              "<Figure size 800x600 with 2 Axes>"
            ]
          },
          "metadata": {},
          "output_type": "display_data"
        }
      ],
      "source": [
        "import seaborn as sns\n",
        "import torchmetrics\n",
        "\n",
        "accuracy = torchmetrics.Accuracy(task='binary')\n",
        "matrix = torchmetrics.ConfusionMatrix(task = 'binary')\n",
        "y_pred = []\n",
        "y_true = []\n",
        "model.eval()\n",
        "val_loss = 0\n",
        "threshold = 0.5\n",
        "\n",
        "with torch.no_grad():\n",
        "  for data, target in test_loader:\n",
        "      data, target = data.to(device), target.to(device)\n",
        "      outputs = model(data)\n",
        "      val_loss += criterion(outputs, target.float().view(-1, 1)).item()\n",
        "      target = target.float().view(-1, 1)\n",
        "      y_true.extend((target >= threshold).int().cpu().numpy())\n",
        "      y_pred.extend((outputs >= threshold).int().cpu().numpy())\n",
        "\n",
        "\n",
        "y_true_tensor = torch.tensor(y_true)\n",
        "y_pred_tensor = torch.tensor(y_pred)\n",
        "\n",
        "accuracy_value = accuracy(y_pred_tensor, y_true_tensor)\n",
        "print(f\"Test Accuracy: {accuracy_value * 100:.2f}%\")\n",
        "cm = matrix(y_pred_tensor, y_true_tensor)\n",
        "\n",
        "plt.figure(figsize=(8, 6))\n",
        "sns.heatmap(cm, annot=True, fmt='g', cmap='Blues', xticklabels=['Female', 'Male'], yticklabels=['Female', 'Male'])\n",
        "plt.xlabel('Predicted')\n",
        "plt.ylabel('True')\n",
        "plt.title('Confusion Matrix')\n",
        "plt.savefig('conf_matrix_gender.png', bbox_inches='tight')\n",
        "plt.show()"
      ]
    },
    {
      "cell_type": "markdown",
      "metadata": {
        "id": "xk-wfoqad4OE"
      },
      "source": [
        "## Na zbiorze WIDERFACE"
      ]
    },
    {
      "cell_type": "code",
      "execution_count": 8,
      "metadata": {
        "id": "ZpXw-05uPvcz"
      },
      "outputs": [],
      "source": [
        "import zipfile\n",
        "import os\n",
        "\n",
        "data_root = \"datasets\"\n",
        "\n",
        "dataset_folder = f\"{data_root}/widerface\"\n",
        "os.makedirs(dataset_folder, exist_ok=True)\n",
        "\n",
        "with zipfile.ZipFile(f\"/content/widerface.zip\", \"r\") as ziphandler:\n",
        "    ziphandler.extractall(dataset_folder)"
      ]
    },
    {
      "cell_type": "code",
      "execution_count": 9,
      "metadata": {
        "id": "-WBUZ8ANCsCo"
      },
      "outputs": [],
      "source": [
        "import torchvision\n",
        "import torch\n",
        "from torchvision.transforms import ToTensor\n",
        "import torchvision.transforms as transforms\n",
        "import torch.nn as nn\n",
        "import torch.nn.functional as F\n",
        "import pandas as pd\n",
        "from PIL import Image\n",
        "import os\n",
        "from posixpath import abspath, expanduser\n",
        "import numpy as np\n",
        "from typing import Any, Callable, Dict, List, Optional, Tuple, Union\n",
        "\n",
        "class WIDERFaceTest(torchvision.datasets.WIDERFace):\n",
        "\n",
        "\n",
        "    def __init__(self, root: str, split: str = \"train\", transform: Optional[Callable] = None, target_transform: Optional[Callable] = None, download: bool = False, face_transform:Optional[Callable] = None ) -> None:\n",
        "       self.face_transform = face_transform\n",
        "\n",
        "       super().__init__(root, split, transform, target_transform, download)\n",
        "\n",
        "\n",
        "    def parse_train_val_annotations_file(self) -> None:\n",
        "        filename = \"wider_face_train_bbx_gt.txt\" if self.split == \"train\" else \"wider_face_val_bbx_gt.txt\"\n",
        "        filepath = os.path.join(self.root, \"wider_face_split\", filename)\n",
        "\n",
        "        with open(filepath) as f:\n",
        "            lines = f.readlines()\n",
        "            file_name_line, num_boxes_line, box_annotation_line = True, False, False\n",
        "            num_boxes, box_counter = 0, 0\n",
        "            labels = []\n",
        "            for line in lines:\n",
        "                line = line.rstrip()\n",
        "                if file_name_line:\n",
        "                    img_path = os.path.join(self.root, \"WIDER_\" + self.split, \"images\", line)\n",
        "                    # img_path = abspath(expanduser(img_path))\n",
        "                    file_name_line = False\n",
        "                    num_boxes_line = True\n",
        "                elif num_boxes_line:\n",
        "                    num_boxes = int(line)\n",
        "                    num_boxes_line = False\n",
        "                    box_annotation_line = True\n",
        "                elif box_annotation_line:\n",
        "                    box_counter += 1\n",
        "                    line_split = line.split(\" \")\n",
        "                    line_values = [int(x) for x in line_split]\n",
        "                    labels.append(line_values)\n",
        "                    if box_counter >= num_boxes:\n",
        "                        box_annotation_line = False\n",
        "                        file_name_line = True\n",
        "                        labels_tensor = torch.tensor(labels)\n",
        "                        faces = []\n",
        "                        for i in range(len(labels)):\n",
        "                          img = Image.open(img_path)\n",
        "                          x = labels[i][0] - (labels[i][2] / 5)\n",
        "                          y = labels[i][1] - (labels[i][3] / 5)\n",
        "                          w = labels[i][2] + (labels[i][2] / 5)\n",
        "                          h = labels[i][3] + (labels[i][3] / 5)\n",
        "                          box = [x,y,x+w,y+h]\n",
        "                          img = img.crop(box)\n",
        "                          img = self.face_transform(img)\n",
        "                          faces.append(img)\n",
        "                        self.img_info.append(\n",
        "                            {\n",
        "                                \"img_path\": img_path,\n",
        "                                \"annotations\": {\n",
        "                                    \"bbox\": labels_tensor[:, 0:4].clone(),  # x, y, width, height\n",
        "                                    \"gender\" : labels_tensor[:, 10].clone(),\n",
        "                                    \"glasses\" : labels_tensor[:, 11].clone(), \n",
        "                                    'faces': faces.copy(),\n",
        "\n",
        "                                },\n",
        "                            }\n",
        "                        )\n",
        "                        box_counter = 0\n",
        "                        labels.clear()\n",
        "                else:\n",
        "                    raise RuntimeError(f\"Error parsing annotation file {filepath}\")\n",
        "\n",
        "        def __getitem__(self, index: int):\n",
        "          target = None if self.split == \"test\" else self.img_info[index][\"annotations\"]\n",
        "          if self.target_transform is not None:\n",
        "              target = self.target_transform(target)\n",
        "          return self.img_info[index][\"faces\"], target\n",
        "\n",
        "class WIDERFaceDataset(torch.utils.data.Dataset):\n",
        "    def __init__(self, widerface_dataset):\n",
        "        self.widerface_dataset = widerface_dataset\n",
        "\n",
        "    def __getitem__(self, index):\n",
        "        faces, target = self.widerface_dataset[index]\n",
        "        return target['faces'], target['gender']\n",
        "\n",
        "    def __len__(self):\n",
        "        return len(self.widerface_dataset)\n",
        "\n",
        "\n"
      ]
    },
    {
      "cell_type": "code",
      "execution_count": 17,
      "metadata": {
        "colab": {
          "base_uri": "https://localhost:8080/"
        },
        "id": "sMGPZAFUFJ_s",
        "outputId": "1d9bc670-1441-4a05-b83c-fdbca7c8b647"
      },
      "outputs": [
        {
          "name": "stdout",
          "output_type": "stream",
          "text": [
            "Using downloaded and verified file: datasets/data/widerface/WIDER_train.zip\n"
          ]
        },
        {
          "name": "stderr",
          "output_type": "stream",
          "text": [
            "362752168it [00:05, 70676401.15it/s]\n",
            "1844140520it [00:26, 69418731.65it/s]\n"
          ]
        },
        {
          "name": "stdout",
          "output_type": "stream",
          "text": [
            "Downloading http://shuoyang1213.me/WIDERFACE/support/bbx_annotation/wider_face_split.zip to datasets/data/widerface/wider_face_split.zip\n"
          ]
        },
        {
          "name": "stderr",
          "output_type": "stream",
          "text": [
            "100%|██████████| 3591642/3591642 [00:00<00:00, 36121680.31it/s]"
          ]
        },
        {
          "name": "stdout",
          "output_type": "stream",
          "text": [
            "Extracting datasets/data/widerface/wider_face_split.zip to datasets/data/widerface\n"
          ]
        },
        {
          "name": "stderr",
          "output_type": "stream",
          "text": [
            "\n"
          ]
        }
      ],
      "source": [
        "imagenet_data =  torchvision.datasets.WIDERFace(f'{datasets}', download=True, split='train')\n"
      ]
    },
    {
      "cell_type": "code",
      "execution_count": 18,
      "metadata": {
        "id": "ieMir1ilC3Vo"
      },
      "outputs": [],
      "source": [
        "transform = transforms.Compose([\n",
        "    transforms.Resize((64, 64)),\n",
        "    transforms.ToTensor(),\n",
        "])\n",
        "imagenet_data =  WIDERFaceTest('/content/datasets/data', download=False, split='train', face_transform=transform)\n",
        "widerface_loader = DataLoader(WIDERFaceDataset(imagenet_data), batch_size=1, shuffle=True, num_workers=1 )\n"
      ]
    },
    {
      "cell_type": "code",
      "execution_count": 17,
      "metadata": {
        "colab": {
          "base_uri": "https://localhost:8080/"
        },
        "id": "bkNZIYTRCUMu",
        "outputId": "45507542-5484-45fa-e76c-9cefc7497d34"
      },
      "outputs": [
        {
          "name": "stdout",
          "output_type": "stream",
          "text": [
            "Collecting torchmetrics\n",
            "  Downloading torchmetrics-1.2.1-py3-none-any.whl (806 kB)\n",
            "\u001b[2K     \u001b[90m━━━━━━━━━━━━━━━━━━━━━━━━━━━━━━━━━━━━━━━━\u001b[0m \u001b[32m806.1/806.1 kB\u001b[0m \u001b[31m6.8 MB/s\u001b[0m eta \u001b[36m0:00:00\u001b[0m\n",
            "\u001b[?25hRequirement already satisfied: numpy>1.20.0 in /usr/local/lib/python3.10/dist-packages (from torchmetrics) (1.23.5)\n",
            "Requirement already satisfied: packaging>17.1 in /usr/local/lib/python3.10/dist-packages (from torchmetrics) (23.2)\n",
            "Requirement already satisfied: torch>=1.8.1 in /usr/local/lib/python3.10/dist-packages (from torchmetrics) (2.1.0+cu121)\n",
            "Collecting lightning-utilities>=0.8.0 (from torchmetrics)\n",
            "  Downloading lightning_utilities-0.10.0-py3-none-any.whl (24 kB)\n",
            "Requirement already satisfied: setuptools in /usr/local/lib/python3.10/dist-packages (from lightning-utilities>=0.8.0->torchmetrics) (67.7.2)\n",
            "Requirement already satisfied: typing-extensions in /usr/local/lib/python3.10/dist-packages (from lightning-utilities>=0.8.0->torchmetrics) (4.5.0)\n",
            "Requirement already satisfied: filelock in /usr/local/lib/python3.10/dist-packages (from torch>=1.8.1->torchmetrics) (3.13.1)\n",
            "Requirement already satisfied: sympy in /usr/local/lib/python3.10/dist-packages (from torch>=1.8.1->torchmetrics) (1.12)\n",
            "Requirement already satisfied: networkx in /usr/local/lib/python3.10/dist-packages (from torch>=1.8.1->torchmetrics) (3.2.1)\n",
            "Requirement already satisfied: jinja2 in /usr/local/lib/python3.10/dist-packages (from torch>=1.8.1->torchmetrics) (3.1.2)\n",
            "Requirement already satisfied: fsspec in /usr/local/lib/python3.10/dist-packages (from torch>=1.8.1->torchmetrics) (2023.6.0)\n",
            "Requirement already satisfied: triton==2.1.0 in /usr/local/lib/python3.10/dist-packages (from torch>=1.8.1->torchmetrics) (2.1.0)\n",
            "Requirement already satisfied: MarkupSafe>=2.0 in /usr/local/lib/python3.10/dist-packages (from jinja2->torch>=1.8.1->torchmetrics) (2.1.3)\n",
            "Requirement already satisfied: mpmath>=0.19 in /usr/local/lib/python3.10/dist-packages (from sympy->torch>=1.8.1->torchmetrics) (1.3.0)\n",
            "Installing collected packages: lightning-utilities, torchmetrics\n",
            "Successfully installed lightning-utilities-0.10.0 torchmetrics-1.2.1\n"
          ]
        }
      ],
      "source": [
        "! pip install torchmetrics"
      ]
    },
    {
      "cell_type": "code",
      "execution_count": 156,
      "metadata": {
        "colab": {
          "base_uri": "https://localhost:8080/",
          "height": 581
        },
        "id": "SSIlXFuZHRLm",
        "outputId": "5888f234-8778-404e-d32d-9b91505dfbc9"
      },
      "outputs": [
        {
          "name": "stdout",
          "output_type": "stream",
          "text": [
            "Test Accuracy: 55.15%\n"
          ]
        },
        {
          "data": {
            "image/png": "[encoded data removed]",
            "text/plain": [
              "<Figure size 800x600 with 2 Axes>"
            ]
          },
          "metadata": {},
          "output_type": "display_data"
        }
      ],
      "source": [
        "import seaborn as sns\n",
        "import matplotlib.pyplot as plt\n",
        "\n",
        "import torchmetrics\n",
        "accuracy = torchmetrics.Accuracy(task='binary')\n",
        "matrix = torchmetrics.ConfusionMatrix(task = 'binary')\n",
        "y_pred = []\n",
        "y_true = []\n",
        "model.eval()\n",
        "val_loss = 0\n",
        "threshold = 0.5\n",
        "transform = transforms.Compose([\n",
        "    transforms.Resize((64, 64)),\n",
        "    transforms.ToTensor(),\n",
        "])\n",
        "\n",
        "with torch.no_grad():\n",
        "  for data, target in widerface_loader:\n",
        "      target = target[0]\n",
        "      outputs = []\n",
        "      for i in range(len(target)):\n",
        "        if target[i] == 1: \n",
        "          real = torch.tensor([[0]])\n",
        "        else:\n",
        "          real = torch.tensor([[1]])\n",
        "        inn, label = data[i].to(device), real.to(device)\n",
        "        output = model(inn)\n",
        "        y_pred.extend((output >= threshold).int().cpu().numpy())\n",
        "        y_true.extend((real >= threshold).int().cpu().numpy())\n",
        "\n",
        "y_true_tensor = torch.tensor(y_true)\n",
        "y_pred_tensor = torch.tensor(y_pred)\n",
        "\n",
        "accuracy_value = accuracy(y_pred_tensor, y_true_tensor)\n",
        "print(f\"Test Accuracy: {accuracy_value * 100:.2f}%\")\n",
        "cm = matrix(y_pred_tensor, y_true_tensor)\n",
        "\n",
        "plt.figure(figsize=(8, 6))\n",
        "sns.heatmap(cm, annot=True, fmt='g', cmap='Blues', xticklabels=['Female', 'Male'], yticklabels=['Female', 'Male'])\n",
        "plt.xlabel('Predicted')\n",
        "plt.ylabel('True')\n",
        "plt.title('Confusion Matrix')\n",
        "plt.show()"
      ]
    },
    {
      "cell_type": "code",
      "execution_count": null,
      "metadata": {
        "colab": {
          "base_uri": "https://localhost:8080/",
          "height": 1000
        },
        "id": "Ag5utqtdaon8",
        "outputId": "ce4821fc-1e1d-4c72-eabf-06fd1f03b047"
      },
      "outputs": [],
      "source": [
        "import matplotlib.pyplot as plt\n",
        "import numpy as np\n",
        "import torch\n",
        "\n",
        "def get_img(test_dataset):\n",
        "    idx = np.random.randint(0, len(test_dataset))  # Losowy indeks w batchu\n",
        "    img = test_dataset[idx][1]['faces']\n",
        "    label = test_dataset[idx][1]['gender']\n",
        "    outputs= []\n",
        "    real = []\n",
        "    model.eval()\n",
        "    with torch.no_grad():\n",
        "      for i in range(len(img)):\n",
        "        if label[i] == 1:\n",
        "          real.extend(torch.tensor([0]))\n",
        "        else:\n",
        "          real.extend(torch.tensor([1]))\n",
        "        im = img[i].to(device).unsqueeze(0)\n",
        "        output = model(im)\n",
        "        pred = output\n",
        "        outputs.extend(pred)\n",
        "\n",
        "    real_gender = get_gender(real)\n",
        "    pred_gender = get_gender(outputs)\n",
        "    return img, real_gender, pred_gender, test_dataset[idx][0]\n",
        "\n",
        "\n",
        "def get_gender(pred):\n",
        "    pred_gender = \"\"\n",
        "    out = []\n",
        "    for i in pred:\n",
        "      if i > 0.5:\n",
        "          pred_gender = \"Male\"\n",
        "      else:\n",
        "          pred_gender = \"Female\"\n",
        "      out.append(pred_gender)\n",
        "    return out\n",
        "\n",
        "def pic(img, real_gender, pred_gender):\n",
        "  plt.figure(figsize=(4, 4))\n",
        "  # img = np.transpose(img, (1, 2, 0))\n",
        "  plt.imshow(img)\n",
        "  plt.axis('off')\n",
        "  plt.title(f\"Real gender: {real_gender}\\n Predicted gender: {pred_gender} \")\n",
        "  plt.show()\n",
        "\n",
        "\n",
        "# Wyświetlanie obrazu z predykcjami i etykietami rzeczywistymi\n",
        "gender = 0\n",
        "figure = plt.figure(figsize=(4, 8))\n",
        "cols, rows = 1, 2\n",
        "# for i in range(1, cols * rows + 1):\n",
        "img, real_gender, pred_gender, full = get_img(imagenet_data)\n",
        "pic(full, real_gender, pred_gender)\n"
      ]
    },
    {
      "cell_type": "code",
      "execution_count": null,
      "metadata": {
        "id": "lKtNbQBQZa9U"
      },
      "outputs": [],
      "source": []
    }
  ],
  "metadata": {
    "accelerator": "GPU",
    "colab": {
      "gpuType": "T4",
      "provenance": [],
      "toc_visible": true
    },
    "kernelspec": {
      "display_name": "Python 3",
      "name": "python3"
    },
    "language_info": {
      "codemirror_mode": {
        "name": "ipython",
        "version": 3
      },
      "file_extension": ".py",
      "mimetype": "text/x-python",
      "name": "python",
      "nbconvert_exporter": "python",
      "pygments_lexer": "ipython3",
      "version": "3.9.0"
    },
    "nteract": {
      "version": "nteract-front-end@1.0.0"
    }
  },
  "nbformat": 4,
  "nbformat_minor": 0
}
