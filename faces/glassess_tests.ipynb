{
  "cells": [
    {
      "cell_type": "code",
      "execution_count": 8,
      "metadata": {
        "id": "_Lizp7gTX0VG"
      },
      "outputs": [],
      "source": [
        "import torch\n",
        "import torchvision\n",
        "from torchvision import transforms, models, datasets\n",
        "import torch.nn as nn\n",
        "from torch.utils.data import DataLoader, random_split\n",
        "import torch.optim as optim\n",
        "from torchvision.datasets import CelebA\n",
        "from torch.utils.data import Subset\n",
        "import copy"
      ]
    },
    {
      "cell_type": "code",
      "execution_count": 70,
      "metadata": {
        "colab": {
          "base_uri": "https://localhost:8080/"
        },
        "id": "zy39bPY8X0VM",
        "outputId": "10a73ad2-6878-413d-8a92-e2b2341a66a5"
      },
      "outputs": [
        {
          "name": "stderr",
          "output_type": "stream",
          "text": [
            "/usr/local/lib/python3.10/dist-packages/torchvision/models/_utils.py:208: UserWarning: The parameter 'pretrained' is deprecated since 0.13 and may be removed in the future, please use 'weights' instead.\n",
            "  warnings.warn(\n",
            "/usr/local/lib/python3.10/dist-packages/torchvision/models/_utils.py:223: UserWarning: Arguments other than a weight enum or `None` for 'weights' are deprecated since 0.13 and may be removed in the future. The current behavior is equivalent to passing `weights=ResNet18_Weights.IMAGENET1K_V1`. You can also use `weights=ResNet18_Weights.DEFAULT` to get the most up-to-date weights.\n",
            "  warnings.warn(msg)\n"
          ]
        }
      ],
      "source": [
        "model = models.resnet18(pretrained=True)\n",
        "num_ftrs = model.fc.in_features\n",
        "model.fc = nn.Linear(num_ftrs, 1)  # 2 atrybuty do przewidywania\n",
        "device = torch.device(\"cuda:0\" if torch.cuda.is_available() else \"cpu\")\n",
        "model = model.to(device)\n",
        "\n",
        "# Funkcja straty i optymalizator\n",
        "criterion = nn.BCEWithLogitsLoss()\n",
        "optimizer = optim.SGD(model.parameters(), lr=0.001, momentum=0.9)\n"
      ]
    },
    {
      "cell_type": "code",
      "execution_count": 10,
      "metadata": {
        "colab": {
          "base_uri": "https://localhost:8080/"
        },
        "id": "4VBOYlg7hGbU",
        "outputId": "700c87a4-c256-470c-ceb2-ee1ca8cf8b40"
      },
      "outputs": [
        {
          "name": "stdout",
          "output_type": "stream",
          "text": [
            "Collecting wget\n",
            "  Downloading wget-3.2.zip (10 kB)\n",
            "  Preparing metadata (setup.py) ... \u001b[?25l\u001b[?25hdone\n",
            "Building wheels for collected packages: wget\n",
            "  Building wheel for wget (setup.py) ... \u001b[?25l\u001b[?25hdone\n",
            "  Created wheel for wget: filename=wget-3.2-py3-none-any.whl size=9655 sha256=1b35f9c45968dc8f1410874f129ddac47a1da27cc8cdf7299c5696fdb0d9b8d5\n",
            "  Stored in directory: /root/.cache/pip/wheels/8b/f1/7f/5c94f0a7a505ca1c81cd1d9208ae2064675d97582078e6c769\n",
            "Successfully built wget\n",
            "Installing collected packages: wget\n",
            "Successfully installed wget-3.2\n"
          ]
        }
      ],
      "source": [
        "! pip install wget"
      ]
    },
    {
      "cell_type": "code",
      "execution_count": 11,
      "metadata": {
        "id": "RepqOr1AhCvs"
      },
      "outputs": [],
      "source": [
        "import wget\n",
        "import zipfile\n",
        "import os\n",
        "data_root = \"datasets\"\n",
        "\n",
        "base_url = \"https://graal.ift.ulaval.ca/public/celeba/\"\n",
        "\n",
        "file_list = [\n",
        "    \"img_align_celeba.zip\",\n",
        "    \"list_attr_celeba.txt\",\n",
        "    \"identity_CelebA.txt\",\n",
        "    \"list_bbox_celeba.txt\",\n",
        "    \"list_landmarks_align_celeba.txt\",\n",
        "    \"list_eval_partition.txt\",\n",
        "]\n",
        "\n",
        "# Path to folder with the dataset\n",
        "dataset_folder = f\"{data_root}/celeba\"\n",
        "os.makedirs(dataset_folder, exist_ok=True)\n",
        "\n",
        "for file in file_list:\n",
        "    url = f\"{base_url}/{file}\"\n",
        "    if not os.path.exists(f\"{dataset_folder}/{file}\"):\n",
        "        wget.download(url, f\"{dataset_folder}/{file}\")\n",
        "\n",
        "with zipfile.ZipFile(f\"{dataset_folder}/img_align_celeba.zip\", \"r\") as ziphandler:\n",
        "    ziphandler.extractall(dataset_folder)"
      ]
    },
    {
      "cell_type": "code",
      "execution_count": 12,
      "metadata": {
        "colab": {
          "base_uri": "https://localhost:8080/"
        },
        "id": "uOOw8clpX0VO",
        "outputId": "9bff95bf-0422-4efa-87a7-0302b767c016"
      },
      "outputs": [
        {
          "name": "stdout",
          "output_type": "stream",
          "text": [
            "Files already downloaded and verified\n",
            "Files already downloaded and verified\n"
          ]
        }
      ],
      "source": [
        "transform = transforms.Compose([\n",
        "    transforms.Resize(224),\n",
        "    transforms.CenterCrop(224),\n",
        "    transforms.ToTensor(),\n",
        "    transforms.Normalize(mean=[0.485, 0.456, 0.406], std=[0.229, 0.224, 0.225])\n",
        "])\n",
        "\n",
        "# Ścieżka do danych CelebA\n",
        "celeba_path = \"e:\\\\data\\\\\"\n",
        "\n",
        "test_dataset = datasets.CelebA(root=data_root,\n",
        "                              split='test',\n",
        "                                target_type=['attr'] ,\n",
        "                               transform=transform,\n",
        "                              download=True)\n",
        "\n",
        "train_dataset = datasets.CelebA(root=data_root,\n",
        "                              split='train',\n",
        "                                target_type=['attr'] ,\n",
        "                               transform=transform,\n",
        "                              download=True)\n",
        "eyeglasses_index = 15\n",
        "\n",
        "test_loader = DataLoader(test_dataset, batch_size=64, shuffle=False)\n",
        "glasses_labels = train_dataset.attr[:, train_dataset.attr_names.index(\"Eyeglasses\")]\n",
        "\n",
        "# Count the number of people with and without glasses\n",
        "num_with_glasses = (glasses_labels == 1).sum().item()\n",
        "num_without_glasses = (glasses_labels == 0).sum().item()\n"
      ]
    },
    {
      "cell_type": "code",
      "execution_count": 71,
      "metadata": {
        "colab": {
          "base_uri": "https://localhost:8080/"
        },
        "id": "epL6yK6MX0VQ",
        "outputId": "31b3805d-b284-4d1e-c101-66fe7afd492a"
      },
      "outputs": [
        {
          "data": {
            "text/plain": [
              "ResNet(\n",
              "  (conv1): Conv2d(3, 64, kernel_size=(7, 7), stride=(2, 2), padding=(3, 3), bias=False)\n",
              "  (bn1): BatchNorm2d(64, eps=1e-05, momentum=0.1, affine=True, track_running_stats=True)\n",
              "  (relu): ReLU(inplace=True)\n",
              "  (maxpool): MaxPool2d(kernel_size=3, stride=2, padding=1, dilation=1, ceil_mode=False)\n",
              "  (layer1): Sequential(\n",
              "    (0): BasicBlock(\n",
              "      (conv1): Conv2d(64, 64, kernel_size=(3, 3), stride=(1, 1), padding=(1, 1), bias=False)\n",
              "      (bn1): BatchNorm2d(64, eps=1e-05, momentum=0.1, affine=True, track_running_stats=True)\n",
              "      (relu): ReLU(inplace=True)\n",
              "      (conv2): Conv2d(64, 64, kernel_size=(3, 3), stride=(1, 1), padding=(1, 1), bias=False)\n",
              "      (bn2): BatchNorm2d(64, eps=1e-05, momentum=0.1, affine=True, track_running_stats=True)\n",
              "    )\n",
              "    (1): BasicBlock(\n",
              "      (conv1): Conv2d(64, 64, kernel_size=(3, 3), stride=(1, 1), padding=(1, 1), bias=False)\n",
              "      (bn1): BatchNorm2d(64, eps=1e-05, momentum=0.1, affine=True, track_running_stats=True)\n",
              "      (relu): ReLU(inplace=True)\n",
              "      (conv2): Conv2d(64, 64, kernel_size=(3, 3), stride=(1, 1), padding=(1, 1), bias=False)\n",
              "      (bn2): BatchNorm2d(64, eps=1e-05, momentum=0.1, affine=True, track_running_stats=True)\n",
              "    )\n",
              "  )\n",
              "  (layer2): Sequential(\n",
              "    (0): BasicBlock(\n",
              "      (conv1): Conv2d(64, 128, kernel_size=(3, 3), stride=(2, 2), padding=(1, 1), bias=False)\n",
              "      (bn1): BatchNorm2d(128, eps=1e-05, momentum=0.1, affine=True, track_running_stats=True)\n",
              "      (relu): ReLU(inplace=True)\n",
              "      (conv2): Conv2d(128, 128, kernel_size=(3, 3), stride=(1, 1), padding=(1, 1), bias=False)\n",
              "      (bn2): BatchNorm2d(128, eps=1e-05, momentum=0.1, affine=True, track_running_stats=True)\n",
              "      (downsample): Sequential(\n",
              "        (0): Conv2d(64, 128, kernel_size=(1, 1), stride=(2, 2), bias=False)\n",
              "        (1): BatchNorm2d(128, eps=1e-05, momentum=0.1, affine=True, track_running_stats=True)\n",
              "      )\n",
              "    )\n",
              "    (1): BasicBlock(\n",
              "      (conv1): Conv2d(128, 128, kernel_size=(3, 3), stride=(1, 1), padding=(1, 1), bias=False)\n",
              "      (bn1): BatchNorm2d(128, eps=1e-05, momentum=0.1, affine=True, track_running_stats=True)\n",
              "      (relu): ReLU(inplace=True)\n",
              "      (conv2): Conv2d(128, 128, kernel_size=(3, 3), stride=(1, 1), padding=(1, 1), bias=False)\n",
              "      (bn2): BatchNorm2d(128, eps=1e-05, momentum=0.1, affine=True, track_running_stats=True)\n",
              "    )\n",
              "  )\n",
              "  (layer3): Sequential(\n",
              "    (0): BasicBlock(\n",
              "      (conv1): Conv2d(128, 256, kernel_size=(3, 3), stride=(2, 2), padding=(1, 1), bias=False)\n",
              "      (bn1): BatchNorm2d(256, eps=1e-05, momentum=0.1, affine=True, track_running_stats=True)\n",
              "      (relu): ReLU(inplace=True)\n",
              "      (conv2): Conv2d(256, 256, kernel_size=(3, 3), stride=(1, 1), padding=(1, 1), bias=False)\n",
              "      (bn2): BatchNorm2d(256, eps=1e-05, momentum=0.1, affine=True, track_running_stats=True)\n",
              "      (downsample): Sequential(\n",
              "        (0): Conv2d(128, 256, kernel_size=(1, 1), stride=(2, 2), bias=False)\n",
              "        (1): BatchNorm2d(256, eps=1e-05, momentum=0.1, affine=True, track_running_stats=True)\n",
              "      )\n",
              "    )\n",
              "    (1): BasicBlock(\n",
              "      (conv1): Conv2d(256, 256, kernel_size=(3, 3), stride=(1, 1), padding=(1, 1), bias=False)\n",
              "      (bn1): BatchNorm2d(256, eps=1e-05, momentum=0.1, affine=True, track_running_stats=True)\n",
              "      (relu): ReLU(inplace=True)\n",
              "      (conv2): Conv2d(256, 256, kernel_size=(3, 3), stride=(1, 1), padding=(1, 1), bias=False)\n",
              "      (bn2): BatchNorm2d(256, eps=1e-05, momentum=0.1, affine=True, track_running_stats=True)\n",
              "    )\n",
              "  )\n",
              "  (layer4): Sequential(\n",
              "    (0): BasicBlock(\n",
              "      (conv1): Conv2d(256, 512, kernel_size=(3, 3), stride=(2, 2), padding=(1, 1), bias=False)\n",
              "      (bn1): BatchNorm2d(512, eps=1e-05, momentum=0.1, affine=True, track_running_stats=True)\n",
              "      (relu): ReLU(inplace=True)\n",
              "      (conv2): Conv2d(512, 512, kernel_size=(3, 3), stride=(1, 1), padding=(1, 1), bias=False)\n",
              "      (bn2): BatchNorm2d(512, eps=1e-05, momentum=0.1, affine=True, track_running_stats=True)\n",
              "      (downsample): Sequential(\n",
              "        (0): Conv2d(256, 512, kernel_size=(1, 1), stride=(2, 2), bias=False)\n",
              "        (1): BatchNorm2d(512, eps=1e-05, momentum=0.1, affine=True, track_running_stats=True)\n",
              "      )\n",
              "    )\n",
              "    (1): BasicBlock(\n",
              "      (conv1): Conv2d(512, 512, kernel_size=(3, 3), stride=(1, 1), padding=(1, 1), bias=False)\n",
              "      (bn1): BatchNorm2d(512, eps=1e-05, momentum=0.1, affine=True, track_running_stats=True)\n",
              "      (relu): ReLU(inplace=True)\n",
              "      (conv2): Conv2d(512, 512, kernel_size=(3, 3), stride=(1, 1), padding=(1, 1), bias=False)\n",
              "      (bn2): BatchNorm2d(512, eps=1e-05, momentum=0.1, affine=True, track_running_stats=True)\n",
              "    )\n",
              "  )\n",
              "  (avgpool): AdaptiveAvgPool2d(output_size=(1, 1))\n",
              "  (fc): Linear(in_features=512, out_features=1, bias=True)\n",
              ")"
            ]
          },
          "execution_count": 71,
          "metadata": {},
          "output_type": "execute_result"
        }
      ],
      "source": [
        "model.load_state_dict(torch.load(r'/content/model_attributes.pth', map_location=torch.device('cpu')))\n",
        "model.eval()"
      ]
    },
    {
      "cell_type": "markdown",
      "metadata": {
        "id": "dEcHZK-nYbFw"
      },
      "source": [
        "# CelebA"
      ]
    },
    {
      "cell_type": "code",
      "execution_count": 32,
      "metadata": {
        "colab": {
          "base_uri": "https://localhost:8080/",
          "height": 581
        },
        "id": "GswzaxTrX0VQ",
        "outputId": "a6f032e5-90ae-41c5-d66d-db0cf9d5afa7"
      },
      "outputs": [
        {
          "name": "stdout",
          "output_type": "stream",
          "text": [
            "Test Accuracy: 99.69%\n"
          ]
        },
        {
          "data": {
            "image/png": "[encoded data removed]",
            "text/plain": [
              "<Figure size 800x600 with 2 Axes>"
            ]
          },
          "metadata": {},
          "output_type": "display_data"
        }
      ],
      "source": [
        "import seaborn as sns\n",
        "import torchmetrics\n",
        "import matplotlib.pyplot as plt\n",
        "\n",
        "def get_binary_labels(labels, indices):\n",
        "    binary_labels = labels[:, indices]\n",
        "    return binary_labels.float()  # Konwersja na float dla BCEWithLogitsLoss\n",
        "\n",
        "\n",
        "accuracy = torchmetrics.Accuracy(task='binary')\n",
        "matrix = torchmetrics.ConfusionMatrix(task = 'binary')\n",
        "y_pred = []\n",
        "y_true = []\n",
        "model.eval()\n",
        "val_loss = 0\n",
        "threshold = 0.5\n",
        "transform = transforms.Compose([\n",
        "    transforms.Resize(64,1),\n",
        "    transforms.ToTensor(),\n",
        "])\n",
        "\n",
        "with torch.no_grad():\n",
        "  for data, target in test_loader:\n",
        "      target = get_binary_labels(target, [15])\n",
        "      data, target = data.to(device), target.to(device)\n",
        "      outputs = model(data)\n",
        "      outputs = torch.sigmoid(outputs)\n",
        "      y_true.extend((target >= threshold).int().cpu().numpy())\n",
        "      y_pred.extend((outputs >= threshold).int().cpu().numpy())\n",
        "\n",
        "\n",
        "\n",
        "y_true_tensor = torch.tensor(y_true)\n",
        "y_pred_tensor = torch.tensor(y_pred)\n",
        "\n",
        "accuracy_value = accuracy(y_pred_tensor, y_true_tensor)\n",
        "print(f\"Test Accuracy: {accuracy_value * 100:.2f}%\")\n",
        "cm = matrix(y_pred_tensor, y_true_tensor)\n",
        "\n",
        "plt.figure(figsize=(8, 6))\n",
        "sns.heatmap(cm, annot=True, fmt='g', cmap='Blues', xticklabels=['Glasses', 'No glasses'], yticklabels=['Glasses', 'No glasses'])\n",
        "plt.xlabel('Predicted')\n",
        "plt.ylabel('True')\n",
        "plt.title('Confusion Matrix')\n",
        "plt.savefig('conf_matrix_glasses.png', bbox_inches='tight')\n",
        "plt.show()"
      ]
    },
    {
      "cell_type": "code",
      "execution_count": null,
      "metadata": {
        "colab": {
          "base_uri": "https://localhost:8080/",
          "height": 383
        },
        "id": "uUm-ZZ9SX0VR",
        "outputId": "782da62e-8e0f-4d17-bdd2-13d32de78991"
      },
      "outputs": [],
      "source": [
        "import matplotlib.pyplot as plt\n",
        "import numpy as np\n",
        "import torch\n",
        "\n",
        "def get_img():\n",
        "    idx = np.random.randint(0, len(test_dataset))  # Losowy indeks w batchu\n",
        "    img = test_dataset[idx][0]\n",
        "    label = test_dataset[idx][1]\n",
        "\n",
        "    index = 15\n",
        "    real = get_gender(label[index])\n",
        "    model.eval()\n",
        "    with torch.no_grad():\n",
        "        im = img.to(device).unsqueeze(0)\n",
        "        output = model(im)\n",
        "        pred = output\n",
        "\n",
        "    pred = pred.cpu().numpy().flatten()\n",
        "    pred = get_gender(pred[0])\n",
        "    return img, real, pred\n",
        "\n",
        "\n",
        "def get_gender(inn):\n",
        "    pred = None\n",
        "    if inn > 0.5:\n",
        "        pred = \"Glassess\"\n",
        "    else:\n",
        "        pred = \"No glassess\"\n",
        "    return pred\n",
        "\n",
        "def pic(img, real_eyeglasses, pred_eyeglasses):\n",
        "  plt.figure(figsize=(4, 4))\n",
        "  img = np.transpose(img, (1, 2, 0))\n",
        "  plt.imshow(img)\n",
        "  plt.axis('off')\n",
        "  plt.title(f\"Real eyeglasses: {real_eyeglasses}\\n Predicted eyeglasses: {pred_eyeglasses}\")\n",
        "  plt.show()\n",
        "\n",
        "gender = 0\n",
        "figure = plt.figure(figsize=(8, 8))\n",
        "\n",
        "img, real, pred = get_img()\n",
        "pic(img, real, pred)\n",
        "while (real == pred):\n",
        "  img, real, pred = get_img()\n",
        "pic(img, real, pred)\n",
        "plt.show()\n",
        "\n",
        "\n",
        "\n"
      ]
    },
    {
      "cell_type": "code",
      "execution_count": null,
      "metadata": {
        "id": "R0nRirUVYgwc"
      },
      "outputs": [],
      "source": []
    },
    {
      "cell_type": "markdown",
      "metadata": {
        "id": "-mcoJQ3TYiKF"
      },
      "source": [
        "# WIDERFace"
      ]
    },
    {
      "cell_type": "code",
      "execution_count": 16,
      "metadata": {
        "id": "4cGiPePmZmWi"
      },
      "outputs": [],
      "source": [
        "import zipfile\n",
        "import os\n",
        "\n",
        "data_root = \"datasets\"\n",
        "\n",
        "dataset_folder = f\"{data_root}/widerface\"\n",
        "os.makedirs(dataset_folder, exist_ok=True)\n",
        "\n",
        "with zipfile.ZipFile(f\"/content/widerface.zip\", \"r\") as ziphandler:\n",
        "    ziphandler.extractall(dataset_folder)"
      ]
    },
    {
      "cell_type": "code",
      "execution_count": 74,
      "metadata": {
        "id": "JDx72XM9Zm94"
      },
      "outputs": [],
      "source": [
        "import torchvision\n",
        "import torch\n",
        "from torchvision.transforms import ToTensor\n",
        "import torchvision.transforms as transforms\n",
        "import torch.nn as nn\n",
        "import torch.nn.functional as F\n",
        "import pandas as pd\n",
        "from PIL import Image\n",
        "import os\n",
        "from posixpath import abspath, expanduser\n",
        "import numpy as np\n",
        "from typing import Any, Callable, Dict, List, Optional, Tuple, Union\n",
        "\n",
        "class WIDERFaceTest(torchvision.datasets.WIDERFace):\n",
        "\n",
        "\n",
        "    def __init__(self, root: str, split: str = \"train\", transform: Optional[Callable] = None, target_transform: Optional[Callable] = None, download: bool = False, face_transform:Optional[Callable] = None ) -> None:\n",
        "       self.face_transform = face_transform\n",
        "\n",
        "       super().__init__(root, split, transform, target_transform, download)\n",
        "\n",
        "\n",
        "    def parse_train_val_annotations_file(self) -> None:\n",
        "        filename = \"wider_face_train_bbx_gt.txt\" if self.split == \"train\" else \"wider_face_val_bbx_gt.txt\"\n",
        "        filepath = os.path.join(self.root, \"wider_face_split\", filename)\n",
        "\n",
        "        with open(filepath) as f:\n",
        "            lines = f.readlines()\n",
        "            file_name_line, num_boxes_line, box_annotation_line = True, False, False\n",
        "            num_boxes, box_counter = 0, 0\n",
        "            labels = []\n",
        "            for line in lines:\n",
        "                line = line.rstrip()\n",
        "                if file_name_line:\n",
        "                    img_path = os.path.join(self.root, \"WIDER_\" + self.split, \"images\", line)\n",
        "                    # img_path = abspath(expanduser(img_path))\n",
        "                    file_name_line = False\n",
        "                    num_boxes_line = True\n",
        "                elif num_boxes_line:\n",
        "                    num_boxes = int(line)\n",
        "                    num_boxes_line = False\n",
        "                    box_annotation_line = True\n",
        "                elif box_annotation_line:\n",
        "                    box_counter += 1\n",
        "                    line_split = line.split(\" \")\n",
        "                    line_values = [int(x) for x in line_split]\n",
        "                    labels.append(line_values)\n",
        "                    if box_counter >= num_boxes:\n",
        "                        box_annotation_line = False\n",
        "                        file_name_line = True\n",
        "                        labels_tensor = torch.tensor(labels)\n",
        "                        faces = []\n",
        "                        for i in range(len(labels)):\n",
        "                          img = Image.open(img_path)\n",
        "                          x = labels[i][0] - (labels[i][2] / 5)\n",
        "                          y = labels[i][1] - (labels[i][3] / 5)\n",
        "                          w = labels[i][2] + (labels[i][2] / 5)\n",
        "                          h = labels[i][3] + (labels[i][3] / 5)\n",
        "                          box = [x,y,x+w,y+h]\n",
        "                          img = img.crop(box)\n",
        "                          img = self.face_transform(img)\n",
        "                          faces.append(img)\n",
        "                        self.img_info.append(\n",
        "                            {\n",
        "                                \"img_path\": img_path,\n",
        "                                \"annotations\": {\n",
        "                                    \"bbox\": labels_tensor[:, 0:4].clone(),  # x, y, width, height\n",
        "                                    \"gender\" : labels_tensor[:, 10].clone(),\n",
        "                                    \"glasses\" : labels_tensor[:, 11].clone(),\n",
        "                                    'faces': faces.copy(),\n",
        "\n",
        "                                },\n",
        "                            }\n",
        "                        )\n",
        "                        box_counter = 0\n",
        "                        labels.clear()\n",
        "                else:\n",
        "                    raise RuntimeError(f\"Error parsing annotation file {filepath}\")\n",
        "\n",
        "        def __getitem__(self, index: int):\n",
        "          target = None if self.split == \"test\" else self.img_info[index][\"annotations\"]\n",
        "          if self.target_transform is not None:\n",
        "              target = self.target_transform(target)\n",
        "          return self.img_info[index][\"faces\"], target\n",
        "\n",
        "class WIDERFaceDataset(torch.utils.data.Dataset):\n",
        "    def __init__(self, widerface_dataset):\n",
        "        self.widerface_dataset = widerface_dataset\n",
        "\n",
        "    def __getitem__(self, index):\n",
        "        faces, target = self.widerface_dataset[index]\n",
        "        return target['faces'], target['gender']\n",
        "\n",
        "    def __len__(self):\n",
        "        return len(self.widerface_dataset)\n",
        "\n",
        "\n"
      ]
    },
    {
      "cell_type": "code",
      "execution_count": 7,
      "metadata": {
        "colab": {
          "base_uri": "https://localhost:8080/"
        },
        "id": "YLEpR7x8Zp58",
        "outputId": "829437f5-b2e3-421d-cdd2-89f6ab9c26cf"
      },
      "outputs": [
        {
          "name": "stdout",
          "output_type": "stream",
          "text": [
            "Using downloaded and verified file: datasets/widerface/WIDER_train.zip\n",
            "Using downloaded and verified file: datasets/widerface/WIDER_val.zip\n"
          ]
        },
        {
          "name": "stderr",
          "output_type": "stream",
          "text": [
            "1844140520it [00:17, 103152382.76it/s]\n"
          ]
        },
        {
          "name": "stdout",
          "output_type": "stream",
          "text": [
            "Downloading http://shuoyang1213.me/WIDERFACE/support/bbx_annotation/wider_face_split.zip to datasets/widerface/wider_face_split.zip\n"
          ]
        },
        {
          "name": "stderr",
          "output_type": "stream",
          "text": [
            "100%|██████████| 3591642/3591642 [00:00<00:00, 7337135.77it/s]\n"
          ]
        },
        {
          "name": "stdout",
          "output_type": "stream",
          "text": [
            "Extracting datasets/widerface/wider_face_split.zip to datasets/widerface\n"
          ]
        }
      ],
      "source": [
        "\n",
        "\n",
        "imagenet_data =  torchvision.datasets.WIDERFace(f'datasets', download=True, split='train')\n"
      ]
    },
    {
      "cell_type": "code",
      "execution_count": 75,
      "metadata": {
        "id": "TSY-kKx4a5LS"
      },
      "outputs": [],
      "source": [
        "transform = transforms.Compose([\n",
        "    transforms.Resize(224),\n",
        "    transforms.CenterCrop(224),\n",
        "    transforms.ToTensor(),\n",
        "    transforms.Normalize(mean=[0.485, 0.456, 0.406], std=[0.229, 0.224, 0.225])\n",
        "])\n",
        "imagenet_data =  WIDERFaceTest('/content/datasets', download=False, split='train', face_transform=transform)\n",
        "widerface_loader = DataLoader(WIDERFaceDataset(imagenet_data), batch_size=1, shuffle=True, num_workers=1 )\n"
      ]
    },
    {
      "cell_type": "code",
      "execution_count": 24,
      "metadata": {
        "colab": {
          "base_uri": "https://localhost:8080/"
        },
        "id": "ZSz2hp28bTqY",
        "outputId": "bd2938ae-b4f5-456d-aa40-20e8ded999e7"
      },
      "outputs": [
        {
          "name": "stdout",
          "output_type": "stream",
          "text": [
            "Collecting torchmetrics\n",
            "  Downloading torchmetrics-1.2.1-py3-none-any.whl (806 kB)\n",
            "\u001b[?25l     \u001b[90m━━━━━━━━━━━━━━━━━━━━━━━━━━━━━━━━━━━━━━━━\u001b[0m \u001b[32m0.0/806.1 kB\u001b[0m \u001b[31m?\u001b[0m eta \u001b[36m-:--:--\u001b[0m\r\u001b[2K     \u001b[91m━━━━━━━━\u001b[0m\u001b[91m╸\u001b[0m\u001b[90m━━━━━━━━━━━━━━━━━━━━━━━━━━━━━━━\u001b[0m \u001b[32m174.1/806.1 kB\u001b[0m \u001b[31m5.2 MB/s\u001b[0m eta \u001b[36m0:00:01\u001b[0m\r\u001b[2K     \u001b[91m━━━━━━━━━━━━━━━━━━━━━━━━━━━━━━━━━━━━\u001b[0m\u001b[90m╺\u001b[0m\u001b[90m━━━\u001b[0m \u001b[32m727.0/806.1 kB\u001b[0m \u001b[31m10.7 MB/s\u001b[0m eta \u001b[36m0:00:01\u001b[0m\r\u001b[2K     \u001b[90m━━━━━━━━━━━━━━━━━━━━━━━━━━━━━━━━━━━━━━━━\u001b[0m \u001b[32m806.1/806.1 kB\u001b[0m \u001b[31m9.6 MB/s\u001b[0m eta \u001b[36m0:00:00\u001b[0m\n",
            "\u001b[?25hRequirement already satisfied: numpy>1.20.0 in /usr/local/lib/python3.10/dist-packages (from torchmetrics) (1.23.5)\n",
            "Requirement already satisfied: packaging>17.1 in /usr/local/lib/python3.10/dist-packages (from torchmetrics) (23.2)\n",
            "Requirement already satisfied: torch>=1.8.1 in /usr/local/lib/python3.10/dist-packages (from torchmetrics) (2.1.0+cu121)\n",
            "Collecting lightning-utilities>=0.8.0 (from torchmetrics)\n",
            "  Downloading lightning_utilities-0.10.0-py3-none-any.whl (24 kB)\n",
            "Requirement already satisfied: setuptools in /usr/local/lib/python3.10/dist-packages (from lightning-utilities>=0.8.0->torchmetrics) (67.7.2)\n",
            "Requirement already satisfied: typing-extensions in /usr/local/lib/python3.10/dist-packages (from lightning-utilities>=0.8.0->torchmetrics) (4.5.0)\n",
            "Requirement already satisfied: filelock in /usr/local/lib/python3.10/dist-packages (from torch>=1.8.1->torchmetrics) (3.13.1)\n",
            "Requirement already satisfied: sympy in /usr/local/lib/python3.10/dist-packages (from torch>=1.8.1->torchmetrics) (1.12)\n",
            "Requirement already satisfied: networkx in /usr/local/lib/python3.10/dist-packages (from torch>=1.8.1->torchmetrics) (3.2.1)\n",
            "Requirement already satisfied: jinja2 in /usr/local/lib/python3.10/dist-packages (from torch>=1.8.1->torchmetrics) (3.1.2)\n",
            "Requirement already satisfied: fsspec in /usr/local/lib/python3.10/dist-packages (from torch>=1.8.1->torchmetrics) (2023.6.0)\n",
            "Requirement already satisfied: triton==2.1.0 in /usr/local/lib/python3.10/dist-packages (from torch>=1.8.1->torchmetrics) (2.1.0)\n",
            "Requirement already satisfied: MarkupSafe>=2.0 in /usr/local/lib/python3.10/dist-packages (from jinja2->torch>=1.8.1->torchmetrics) (2.1.3)\n",
            "Requirement already satisfied: mpmath>=0.19 in /usr/local/lib/python3.10/dist-packages (from sympy->torch>=1.8.1->torchmetrics) (1.3.0)\n",
            "Installing collected packages: lightning-utilities, torchmetrics\n",
            "Successfully installed lightning-utilities-0.10.0 torchmetrics-1.2.1\n"
          ]
        }
      ],
      "source": [
        "! pip install torchmetrics"
      ]
    },
    {
      "cell_type": "code",
      "execution_count": 76,
      "metadata": {
        "colab": {
          "base_uri": "https://localhost:8080/",
          "height": 581
        },
        "id": "5ArdDdV-baHd",
        "outputId": "37600cf5-bd7d-4ab3-afaf-001842c949a3"
      },
      "outputs": [
        {
          "name": "stdout",
          "output_type": "stream",
          "text": [
            "Test Accuracy: 50.92%\n"
          ]
        },
        {
          "data": {
            "image/png": "[encoded data removed]",
            "text/plain": [
              "<Figure size 800x600 with 2 Axes>"
            ]
          },
          "metadata": {},
          "output_type": "display_data"
        }
      ],
      "source": [
        "import seaborn as sns\n",
        "import matplotlib.pyplot as plt\n",
        "\n",
        "import torchmetrics\n",
        "accuracy = torchmetrics.Accuracy(task='binary')\n",
        "matrix = torchmetrics.ConfusionMatrix(task = 'binary')\n",
        "y_pred = []\n",
        "y_true = []\n",
        "model.eval()\n",
        "val_loss = 0\n",
        "threshold = 0.5\n",
        "\n",
        "\n",
        "with torch.no_grad():\n",
        "  for data, target in widerface_loader:\n",
        "      target = target[0]\n",
        "      outputs = []\n",
        "      for i in range(len(target)):\n",
        "        if target[i] == 1:\n",
        "          real = torch.tensor([[0]])\n",
        "        else:\n",
        "          real = torch.tensor([[1]])\n",
        "        inn, label = data[i].to(device), real.to(device)\n",
        "        output = model(inn)\n",
        "        y_pred.extend((output >= threshold).int().cpu().numpy())\n",
        "        y_true.extend((real >= threshold).int().cpu().numpy())\n",
        "\n",
        "\n",
        "y_true_tensor = torch.tensor(y_true)\n",
        "y_pred_tensor = torch.tensor(y_pred)\n",
        "\n",
        "accuracy_value = accuracy(y_pred_tensor, y_true_tensor)\n",
        "print(f\"Test Accuracy: {accuracy_value * 100:.2f}%\")\n",
        "cm = matrix(y_pred_tensor, y_true_tensor)\n",
        "\n",
        "plt.figure(figsize=(8, 6))\n",
        "sns.heatmap(cm, annot=True, fmt='g', cmap='Blues', xticklabels=['Glasses', 'No glasses'], yticklabels=['Glasses', 'No glasses'])\n",
        "plt.xlabel('Predicted')\n",
        "plt.ylabel('True')\n",
        "plt.title('Confusion Matrix')\n",
        "plt.show()"
      ]
    },
    {
      "cell_type": "code",
      "execution_count": null,
      "metadata": {
        "colab": {
          "base_uri": "https://localhost:8080/",
          "height": 407
        },
        "id": "FZCD939ceeqs",
        "outputId": "bd372798-9d44-4bfd-9ece-0a861f50873a"
      },
      "outputs": [],
      "source": [
        "import matplotlib.pyplot as plt\n",
        "import numpy as np\n",
        "import torch\n",
        "\n",
        "def get_img(test_dataset):\n",
        "    idx = np.random.randint(0, len(test_dataset))  # Losowy indeks w batchu\n",
        "    img = test_dataset[idx][1]['faces']\n",
        "    label = test_dataset[idx][1]['glasses']\n",
        "    outputs= []\n",
        "    real = []\n",
        "    model.eval()\n",
        "    with torch.no_grad():\n",
        "      for i in range(len(img)):\n",
        "        im = img[i].to(device).unsqueeze(0)\n",
        "        output = model(im)\n",
        "        pred = output\n",
        "        outputs.extend(pred)\n",
        "\n",
        "    real = get_gender(label)\n",
        "    pred = get_gender(outputs)\n",
        "    return img, real, pred, test_dataset[idx][0]\n",
        "\n",
        "\n",
        "def get_gender(pred):\n",
        "    pred_g = \"\"\n",
        "    out = []\n",
        "    for i in pred:\n",
        "      if i > 0.5:\n",
        "          pred_g = \"Glasses\"\n",
        "      else:\n",
        "          pred_g = \"No glasses\"\n",
        "      out.append(pred_g)\n",
        "    return out\n",
        "\n",
        "def pic(img, real_eyeglasses, pred_eyeglasses):\n",
        "  plt.figure(figsize=(4, 4))\n",
        "  # img = np.transpose(img, (1, 2, 0))\n",
        "  plt.imshow(img)\n",
        "  plt.axis('off')\n",
        "  plt.title(f\"Real eyeglasses: {real_eyeglasses}\\n Predicted eyeglasses: {pred_eyeglasses}\")\n",
        "  plt.show()\n",
        "\n",
        "\n",
        "# Wyświetlanie obrazu z predykcjami i etykietami rzeczywistymi\n",
        "gender = 0\n",
        "figure = plt.figure(figsize=(4, 8))\n",
        "cols, rows = 1, 2\n",
        "img, real, pred, full = get_img(imagenet_data)\n",
        "pic(full, real, pred)\n"
      ]
    }
  ],
  "metadata": {
    "accelerator": "GPU",
    "colab": {
      "gpuType": "T4",
      "provenance": []
    },
    "kernelspec": {
      "display_name": "Python 3",
      "name": "python3"
    },
    "language_info": {
      "codemirror_mode": {
        "name": "ipython",
        "version": 3
      },
      "file_extension": ".py",
      "mimetype": "text/x-python",
      "name": "python",
      "nbconvert_exporter": "python",
      "pygments_lexer": "ipython3",
      "version": "3.9.0"
    }
  },
  "nbformat": 4,
  "nbformat_minor": 0
}
